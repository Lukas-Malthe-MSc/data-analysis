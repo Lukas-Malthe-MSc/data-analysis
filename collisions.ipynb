{
 "cells": [
  {
   "cell_type": "code",
   "execution_count": 12,
   "metadata": {},
   "outputs": [
    {
     "name": "stdout",
     "output_type": "stream",
     "text": [
      "data/test_track_1_with_fixed_obstacles_CNN_num_collisions.npy 426\n",
      "data/test_track_2_with_fixed_obstacles_CNN_num_collisions.npy 2695\n",
      "data/test_track_3_with_fixed_obstacles_CNN_num_collisions.npy 549\n",
      "data/test_track_1_with_fixed_obstacles_LSTM_num_collisions.npy 3366\n",
      "data/test_track_2_with_fixed_obstacles_LSTM_num_collisions.npy 1439\n",
      "data/test_track_3_with_fixed_obstacles_LSTM_num_collisions.npy 2214\n",
      "data/test_track_1_with_fixed_obstacles_MLP_num_collisions.npy 2032\n",
      "data/test_track_2_with_fixed_obstacles_MLP_num_collisions.npy 3437\n",
      "data/test_track_3_with_fixed_obstacles_MLP_num_collisions.npy 1920\n"
     ]
    }
   ],
   "source": [
    "import numpy as np\n",
    "\n",
    "data_files = [\n",
    "    'data/test_track_1_with_fixed_obstacles_CNN_num_collisions.npy',\n",
    "    'data/test_track_2_with_fixed_obstacles_CNN_num_collisions.npy', #was 2581 berfore\n",
    "    'data/test_track_3_with_fixed_obstacles_CNN_num_collisions.npy',\n",
    "    'data/test_track_1_with_fixed_obstacles_LSTM_num_collisions.npy',\n",
    "    'data/test_track_2_with_fixed_obstacles_LSTM_num_collisions.npy',\n",
    "    'data/test_track_3_with_fixed_obstacles_LSTM_num_collisions.npy',\n",
    "    'data/test_track_1_with_fixed_obstacles_MLP_num_collisions.npy',\n",
    "    'data/test_track_2_with_fixed_obstacles_MLP_num_collisions.npy',\n",
    "    'data/test_track_3_with_fixed_obstacles_MLP_num_collisions.npy',\n",
    "]\n",
    "\n",
    "for data_file in data_files:\n",
    "    data = np.load(data_file)\n",
    "    print(data_file, data)\n",
    "    "
   ]
  },
  {
   "cell_type": "code",
   "execution_count": null,
   "metadata": {},
   "outputs": [],
   "source": []
  }
 ],
 "metadata": {
  "kernelspec": {
   "display_name": "orbit",
   "language": "python",
   "name": "python3"
  },
  "language_info": {
   "codemirror_mode": {
    "name": "ipython",
    "version": 3
   },
   "file_extension": ".py",
   "mimetype": "text/x-python",
   "name": "python",
   "nbconvert_exporter": "python",
   "pygments_lexer": "ipython3",
   "version": "3.10.13"
  }
 },
 "nbformat": 4,
 "nbformat_minor": 2
}
